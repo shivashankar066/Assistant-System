{
 "cells": [
  {
   "cell_type": "code",
   "execution_count": 1,
   "id": "c4ed6d3a",
   "metadata": {},
   "outputs": [],
   "source": [
    "import pandas as pd\n",
    "import pyodbc\n",
    "\n",
    "# Import CSV\n",
    "data = pd.read_csv(r'E:\\OneDrive - Quadratic Insights Pvt Ltd\\Desktop\\Lab_result\\Procedure_Data_Analysis - Copy.csv')   \n",
    "df = pd.DataFrame(data)\n",
    "\n",
    "# Connect to SQL Server\n",
    "conn = pyodbc.connect(\"Driver={ODBC Driver 17 for SQL Server};\"\n",
    "                     \"Server=172.16.1.35,1433;\"\n",
    "                     \"Database=Epic_Test;\"\n",
    "                     \"UID=ssrampur;\"\n",
    "                     \"PWD=SsrQtx@#2022;\")\n",
    "cursor = conn.cursor()"
   ]
  },
  {
   "cell_type": "code",
   "execution_count": 2,
   "id": "d139cad6",
   "metadata": {},
   "outputs": [
    {
     "data": {
      "text/html": [
       "<div>\n",
       "<style scoped>\n",
       "    .dataframe tbody tr th:only-of-type {\n",
       "        vertical-align: middle;\n",
       "    }\n",
       "\n",
       "    .dataframe tbody tr th {\n",
       "        vertical-align: top;\n",
       "    }\n",
       "\n",
       "    .dataframe thead th {\n",
       "        text-align: right;\n",
       "    }\n",
       "</style>\n",
       "<table border=\"1\" class=\"dataframe\">\n",
       "  <thead>\n",
       "    <tr style=\"text-align: right;\">\n",
       "      <th></th>\n",
       "      <th>Service_ID</th>\n",
       "      <th>Service_Fee</th>\n",
       "      <th>Daignosis_Code</th>\n",
       "      <th>Procedure_Code</th>\n",
       "    </tr>\n",
       "  </thead>\n",
       "  <tbody>\n",
       "    <tr>\n",
       "      <th>0</th>\n",
       "      <td>468</td>\n",
       "      <td>0.0</td>\n",
       "      <td>E11.9</td>\n",
       "      <td>3074F</td>\n",
       "    </tr>\n",
       "    <tr>\n",
       "      <th>1</th>\n",
       "      <td>469</td>\n",
       "      <td>0.0</td>\n",
       "      <td>E11.9</td>\n",
       "      <td>3078F</td>\n",
       "    </tr>\n",
       "    <tr>\n",
       "      <th>2</th>\n",
       "      <td>467</td>\n",
       "      <td>160.0</td>\n",
       "      <td>E11.9</td>\n",
       "      <td>99214</td>\n",
       "    </tr>\n",
       "    <tr>\n",
       "      <th>3</th>\n",
       "      <td>595</td>\n",
       "      <td>20.0</td>\n",
       "      <td>E11.65</td>\n",
       "      <td>83036</td>\n",
       "    </tr>\n",
       "    <tr>\n",
       "      <th>4</th>\n",
       "      <td>596</td>\n",
       "      <td>8.0</td>\n",
       "      <td>E11.65</td>\n",
       "      <td>36416</td>\n",
       "    </tr>\n",
       "    <tr>\n",
       "      <th>...</th>\n",
       "      <td>...</td>\n",
       "      <td>...</td>\n",
       "      <td>...</td>\n",
       "      <td>...</td>\n",
       "    </tr>\n",
       "    <tr>\n",
       "      <th>59859</th>\n",
       "      <td>3440442</td>\n",
       "      <td>10.0</td>\n",
       "      <td>E11.69</td>\n",
       "      <td>81002</td>\n",
       "    </tr>\n",
       "    <tr>\n",
       "      <th>59860</th>\n",
       "      <td>3440443</td>\n",
       "      <td>6.5</td>\n",
       "      <td>E11.69</td>\n",
       "      <td>82962</td>\n",
       "    </tr>\n",
       "    <tr>\n",
       "      <th>59861</th>\n",
       "      <td>3440447</td>\n",
       "      <td>306.8</td>\n",
       "      <td>E11.9</td>\n",
       "      <td>99204</td>\n",
       "    </tr>\n",
       "    <tr>\n",
       "      <th>59862</th>\n",
       "      <td>3440448</td>\n",
       "      <td>0.0</td>\n",
       "      <td>E11.9</td>\n",
       "      <td>3074F</td>\n",
       "    </tr>\n",
       "    <tr>\n",
       "      <th>59863</th>\n",
       "      <td>3440449</td>\n",
       "      <td>0.0</td>\n",
       "      <td>E11.9</td>\n",
       "      <td>3078F</td>\n",
       "    </tr>\n",
       "  </tbody>\n",
       "</table>\n",
       "<p>59864 rows × 4 columns</p>\n",
       "</div>"
      ],
      "text/plain": [
       "       Service_ID  Service_Fee Daignosis_Code Procedure_Code\n",
       "0             468          0.0     E11.9               3074F\n",
       "1             469          0.0     E11.9               3078F\n",
       "2             467        160.0     E11.9               99214\n",
       "3             595         20.0     E11.65              83036\n",
       "4             596          8.0     E11.65              36416\n",
       "...           ...          ...            ...            ...\n",
       "59859     3440442         10.0     E11.69              81002\n",
       "59860     3440443          6.5     E11.69              82962\n",
       "59861     3440447        306.8     E11.9               99204\n",
       "59862     3440448          0.0     E11.9               3074F\n",
       "59863     3440449          0.0     E11.9               3078F\n",
       "\n",
       "[59864 rows x 4 columns]"
      ]
     },
     "execution_count": 2,
     "metadata": {},
     "output_type": "execute_result"
    }
   ],
   "source": [
    "#cursor.execute(\"\"\"DROP TABLE GenSvcInfo1\"\"\")\n",
    "df"
   ]
  },
  {
   "cell_type": "code",
   "execution_count": 3,
   "id": "661f157f",
   "metadata": {},
   "outputs": [
    {
     "data": {
      "text/plain": [
       "<pyodbc.Cursor at 0x231c548b2b0>"
      ]
     },
     "execution_count": 3,
     "metadata": {},
     "output_type": "execute_result"
    }
   ],
   "source": [
    "# Create Table\n",
    "cursor.execute('''\n",
    "CREATE TABLE data_Analysis(\n",
    "Service_ID int,\n",
    "Service_Fee float,\n",
    "Daignosis_Code varchar(10),\n",
    "Procedure_Code varchar(10)\n",
    ")\n",
    "               ''')\n"
   ]
  },
  {
   "cell_type": "code",
   "execution_count": 58,
   "id": "00964fa0",
   "metadata": {},
   "outputs": [],
   "source": [
    "# conn.commit()"
   ]
  },
  {
   "cell_type": "code",
   "execution_count": 4,
   "id": "e65e103b",
   "metadata": {
    "scrolled": true
   },
   "outputs": [
    {
     "data": {
      "text/plain": [
       "Service_ID          int64\n",
       "Service_Fee       float64\n",
       "Daignosis_Code     object\n",
       "Procedure_Code     object\n",
       "dtype: object"
      ]
     },
     "execution_count": 4,
     "metadata": {},
     "output_type": "execute_result"
    }
   ],
   "source": [
    "df.dtypes"
   ]
  },
  {
   "cell_type": "code",
   "execution_count": 5,
   "id": "e2ecf91c",
   "metadata": {},
   "outputs": [],
   "source": [
    "#df['Appointment_Date'] = pd.to_datetime(df['Appointment_Date'],format='%Y-%m-%d',errors='coerce')\n",
    "#df['Service_Date_To'] = pd.to_datetime(df['Service_Date_To'],format='%Y-%m-%d',errors='coerce')\n",
    "#df['Patient_Sex'] = df['Patient_Sex'].astype(\"string\")\n",
    "df['Daignosis_Code'] = df['Daignosis_Code'].astype(\"string\")\n",
    "df['Procedure_Code'] = df['Procedure_Code'].astype(\"string\")"
   ]
  },
  {
   "cell_type": "code",
   "execution_count": 61,
   "id": "67b2e88e",
   "metadata": {},
   "outputs": [],
   "source": [
    "# df['Appointment_Date']=lambda x : pd.to_datetime(x[\"Appointment_Date\"], errors=\"coerce\").dt.date\n",
    "# df['Service_Date_To']=lambda x : pd.to_datetime(x[\"Service_Date_To\"], errors=\"coerce\").dt.date"
   ]
  },
  {
   "cell_type": "code",
   "execution_count": 62,
   "id": "8e06729e",
   "metadata": {},
   "outputs": [],
   "source": [
    "#df['Appointment_Date'] = pd.to_datetime(df['Appointment_Date']).dt.normalize()"
   ]
  },
  {
   "cell_type": "code",
   "execution_count": 6,
   "id": "90a136ea",
   "metadata": {},
   "outputs": [
    {
     "data": {
      "text/plain": [
       "Service_ID          int64\n",
       "Service_Fee       float64\n",
       "Daignosis_Code     string\n",
       "Procedure_Code     string\n",
       "dtype: object"
      ]
     },
     "execution_count": 6,
     "metadata": {},
     "output_type": "execute_result"
    }
   ],
   "source": [
    "df.dtypes"
   ]
  },
  {
   "cell_type": "code",
   "execution_count": 7,
   "id": "013ccc51",
   "metadata": {},
   "outputs": [
    {
     "data": {
      "text/html": [
       "<div>\n",
       "<style scoped>\n",
       "    .dataframe tbody tr th:only-of-type {\n",
       "        vertical-align: middle;\n",
       "    }\n",
       "\n",
       "    .dataframe tbody tr th {\n",
       "        vertical-align: top;\n",
       "    }\n",
       "\n",
       "    .dataframe thead th {\n",
       "        text-align: right;\n",
       "    }\n",
       "</style>\n",
       "<table border=\"1\" class=\"dataframe\">\n",
       "  <thead>\n",
       "    <tr style=\"text-align: right;\">\n",
       "      <th></th>\n",
       "      <th>Service_ID</th>\n",
       "      <th>Service_Fee</th>\n",
       "      <th>Daignosis_Code</th>\n",
       "      <th>Procedure_Code</th>\n",
       "    </tr>\n",
       "  </thead>\n",
       "  <tbody>\n",
       "    <tr>\n",
       "      <th>0</th>\n",
       "      <td>468</td>\n",
       "      <td>0.0</td>\n",
       "      <td>E11.9</td>\n",
       "      <td>3074F</td>\n",
       "    </tr>\n",
       "    <tr>\n",
       "      <th>1</th>\n",
       "      <td>469</td>\n",
       "      <td>0.0</td>\n",
       "      <td>E11.9</td>\n",
       "      <td>3078F</td>\n",
       "    </tr>\n",
       "    <tr>\n",
       "      <th>2</th>\n",
       "      <td>467</td>\n",
       "      <td>160.0</td>\n",
       "      <td>E11.9</td>\n",
       "      <td>99214</td>\n",
       "    </tr>\n",
       "    <tr>\n",
       "      <th>3</th>\n",
       "      <td>595</td>\n",
       "      <td>20.0</td>\n",
       "      <td>E11.65</td>\n",
       "      <td>83036</td>\n",
       "    </tr>\n",
       "    <tr>\n",
       "      <th>4</th>\n",
       "      <td>596</td>\n",
       "      <td>8.0</td>\n",
       "      <td>E11.65</td>\n",
       "      <td>36416</td>\n",
       "    </tr>\n",
       "  </tbody>\n",
       "</table>\n",
       "</div>"
      ],
      "text/plain": [
       "   Service_ID  Service_Fee Daignosis_Code Procedure_Code\n",
       "0         468          0.0     E11.9               3074F\n",
       "1         469          0.0     E11.9               3078F\n",
       "2         467        160.0     E11.9               99214\n",
       "3         595         20.0     E11.65              83036\n",
       "4         596          8.0     E11.65              36416"
      ]
     },
     "execution_count": 7,
     "metadata": {},
     "output_type": "execute_result"
    }
   ],
   "source": [
    "df.head()"
   ]
  },
  {
   "cell_type": "code",
   "execution_count": 8,
   "id": "41e6de98",
   "metadata": {},
   "outputs": [],
   "source": [
    "# Insert DataFrame to Table\n",
    "for row in df.itertuples():\n",
    "    cursor.execute('''INSERT INTO data_Analysis(Service_ID,Service_Fee,Daignosis_Code,Procedure_Code)\n",
    "                VALUES (?,?,?,?)\n",
    "                ''',\n",
    "                row.Service_ID, \n",
    "                row.Service_Fee,\n",
    "                row.Daignosis_Code,\n",
    "                row.Procedure_Code,\n",
    "               )\n",
    "                \n",
    "                \n",
    "                   \n",
    "conn.commit()"
   ]
  },
  {
   "cell_type": "code",
   "execution_count": null,
   "id": "8cac9b44",
   "metadata": {},
   "outputs": [],
   "source": []
  },
  {
   "cell_type": "code",
   "execution_count": null,
   "id": "54306e95",
   "metadata": {},
   "outputs": [],
   "source": []
  }
 ],
 "metadata": {
  "kernelspec": {
   "display_name": "Python 3 (ipykernel)",
   "language": "python",
   "name": "python3"
  },
  "language_info": {
   "codemirror_mode": {
    "name": "ipython",
    "version": 3
   },
   "file_extension": ".py",
   "mimetype": "text/x-python",
   "name": "python",
   "nbconvert_exporter": "python",
   "pygments_lexer": "ipython3",
   "version": "3.9.7"
  }
 },
 "nbformat": 4,
 "nbformat_minor": 5
}
